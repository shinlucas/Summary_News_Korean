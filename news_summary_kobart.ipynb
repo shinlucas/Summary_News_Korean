{
  "nbformat": 4,
  "nbformat_minor": 0,
  "metadata": {
    "colab": {
      "provenance": []
    },
    "kernelspec": {
      "name": "python3",
      "display_name": "Python 3"
    },
    "language_info": {
      "name": "python"
    },
    "gpuClass": "standard",
    "accelerator": "GPU"
  },
  "cells": [
    {
      "cell_type": "markdown",
      "source": [
        "# 사용시, train/demo test 는 제외하고 돌리면 됩니다."
      ],
      "metadata": {
        "id": "ql98iJlcn85T"
      }
    },
    {
      "cell_type": "code",
      "execution_count": 1,
      "metadata": {
        "colab": {
          "base_uri": "https://localhost:8080/"
        },
        "id": "ALCJOGLno3G0",
        "outputId": "5421c2fd-68db-4bb9-d4b7-805845e304bc"
      },
      "outputs": [
        {
          "output_type": "stream",
          "name": "stdout",
          "text": [
            "Mounted at /content/drive\n"
          ]
        }
      ],
      "source": [
        "from google.colab import drive\n",
        "drive.mount('/content/drive')"
      ]
    },
    {
      "cell_type": "markdown",
      "source": [
        "# 네이버 크롤링"
      ],
      "metadata": {
        "id": "GdJvV978R4-E"
      }
    },
    {
      "cell_type": "code",
      "source": [
        "import requests \n",
        "from bs4 import BeautifulSoup \n",
        "from datetime import datetime \n",
        "import pandas as pd \n",
        "\n",
        "# 뉴스 언론사 선택\n",
        "news_company = ['중앙일보', '연합뉴스', '조선일보', '국민일보']\n",
        "\n",
        "\n",
        "# USER-AGENT : your user-agent\n",
        "# https://www.whatismybrowser.com/detect/what-is-my-user-agent에서 user-agent의 값 가져오기\n",
        "headers = {\"User-Agent\": \"https://developers.whatismybrowser.com/useragents/parse/?analyse-my-user-agent=yes\"}\n",
        "\n",
        "\n",
        "#네이버 뉴스 랭킹 사이트\n",
        "url = \"https://news.naver.com/main/ranking/popularDay.naver\"\n",
        "\n",
        "\n",
        "# 서버 접속, html 해석\n",
        "res = requests.get(url, headers = headers)\n",
        "soup = BeautifulSoup(res.text, \"lxml\")\n",
        "\n",
        "\n",
        "# 언론사별 1 ~ 5위 데이터 담긴 div 모두 가져오기\n",
        "all_box = soup.find_all(\"div\", attrs = {\"class\":\"rankingnews_box\"})\n",
        "\n",
        "\n",
        "# 각 언론사별 1 ~ 5위 데이터 접근, lst_all_data에 저장\n",
        "lst_all_data = []\n",
        "# count = 1 \n",
        "for box in all_box:\n",
        "    company_name = box.strong.text\n",
        "    lst_all_rank = box.find_all(\"li\")\n",
        "    num_rank = 1\n",
        "    for rank in lst_all_rank:\n",
        "        lst_data = []\n",
        "        lst_data.append(datetime.now().strftime(\"%Y-%m-%d\"))\n",
        "        lst_data.append(company_name)\n",
        "        if rank.a == None:\n",
        "                continue\n",
        "        lst_data.append(num_rank)\n",
        "        lst_data.append(rank.a.text)\n",
        "        lst_data.append(rank.a[\"href\"])\n",
        "        num_rank += 1\n",
        "        lst_all_data.append(lst_data)\n",
        "    # 몇회째 실시 되고 있는지 확인\n",
        "    # print(f\"전체 {str(len(all_box))} 중 {count}회 종료\")\n",
        "    # count += 1\n",
        "\n",
        "\n",
        "df = pd.DataFrame(lst_all_data, columns = [\"date\", \"company\", \"rank\", \"title\", \"link\"])\n",
        "\n",
        "\n",
        "# 선택된 언론사의 뉴스만 남기고, index 정렬\n",
        "df = df[ df['company'].isin(news_company)].reset_index()"
      ],
      "metadata": {
        "id": "lmie2tfauqKR"
      },
      "execution_count": null,
      "outputs": []
    },
    {
      "cell_type": "code",
      "source": [
        "import re\n",
        "from tqdm import tqdm\n",
        "import sys\n",
        "\n",
        "final_urls = []\n",
        "news_titles = []\n",
        "news_contents = []\n",
        "news_dates = []\n",
        "\n",
        "\n",
        "for i in range(len(df)):\n",
        "  final_urls.append(df['link'][i])\n",
        "\n",
        "# 뉴스 내용 크롤링\n",
        "for i in tqdm(final_urls):\n",
        "    news = requests.get(i,headers=headers)\n",
        "    news_html = BeautifulSoup(news.text,\"html.parser\")\n",
        "\n",
        "    title = news_html.select_one(\"#ct > div.media_end_head.go_trans > div.media_end_head_title > h2\")\n",
        "    if title == None:\n",
        "        title = news_html.select_one(\"#content > div.end_ct > div > h2\")\n",
        "    \n",
        "    content = news_html.select(\"div#dic_area\")\n",
        "    if content == []:\n",
        "        content = news_html.select(\"#articeBody\")\n",
        "        \n",
        "    content = ''.join(str(content))\n",
        "\n",
        "    # html태그제거 및 텍스트 다듬기\n",
        "    pattern1 = '<[^>]*>'\n",
        "    title = re.sub(pattern=pattern1, repl='', string=str(title))\n",
        "    content = re.sub(pattern=pattern1, repl='', string=content)\n",
        "    pattern2 = \"\"\"[\\n\\n\\n\\n\\n// flash 오류를 우회하기 위한 함수 추가\\nfunction _flash_removeCallback() {}\"\"\"\n",
        "    content = content.replace(pattern2, '')\n",
        "\n",
        "    news_titles.append(title)\n",
        "    content = \" \".join(re.split(r\"\\s+\", content))\n",
        "    news_contents.append(content)\n",
        "\n",
        "    try:\n",
        "        html_date = news_html.select_one(\"div#ct> div.media_end_head.go_trans > div.media_end_head_info.nv_notrans > div.media_end_head_info_datestamp > div > span\")\n",
        "        news_date = html_date.attrs['data-date-time']\n",
        "    except AttributeError:\n",
        "        news_date = news_html.select_one(\"#content > div.end_ct > div > div.article_info > span > em\")\n",
        "        news_date = re.sub(pattern = pattern1, repl = '', string = str(news_date))\n",
        "\n",
        "    news_dates.append(news_date)"
      ],
      "metadata": {
        "colab": {
          "base_uri": "https://localhost:8080/"
        },
        "id": "oulwkm7Xuq9q",
        "outputId": "6c45cbe9-8307-458b-ded7-a97b338a150b"
      },
      "execution_count": null,
      "outputs": [
        {
          "output_type": "stream",
          "name": "stderr",
          "text": [
            "100%|██████████| 20/20 [00:08<00:00,  2.37it/s]\n"
          ]
        }
      ]
    },
    {
      "cell_type": "code",
      "source": [
        "news_df = pd.DataFrame({'date': news_dates,'title': news_titles,'link': final_urls,'content': news_contents})\n",
        "\n",
        "#중복 행 지우기\n",
        "news_df = news_df.drop_duplicates(keep='first', ignore_index=True)\n",
        "print(\"중복 제거 후 행 개수: \",len(news_df))\n",
        "\n",
        "#데이터 프레임 저장\n",
        "#now = datetime.now() \n",
        "#news_df.to_excel('{}.xlsx'.format(now.strftime('%Y%m%d_%H시%M분%S초')),encoding='utf-8-sig',index=False)"
      ],
      "metadata": {
        "colab": {
          "base_uri": "https://localhost:8080/"
        },
        "id": "oRQKlYYKurUv",
        "outputId": "72a5296f-f622-43d7-8183-8a50e577f353"
      },
      "execution_count": null,
      "outputs": [
        {
          "output_type": "stream",
          "name": "stdout",
          "text": [
            "중복 제거 후 행 개수:  20\n"
          ]
        }
      ]
    },
    {
      "cell_type": "code",
      "source": [
        "news_df.head()"
      ],
      "metadata": {
        "colab": {
          "base_uri": "https://localhost:8080/",
          "height": 337
        },
        "id": "TiOm3KQcvT70",
        "outputId": "6b37cf80-39f7-4a3f-f1d9-7675f91549e8"
      },
      "execution_count": null,
      "outputs": [
        {
          "output_type": "execute_result",
          "data": {
            "text/plain": [
              "   date                                title  \\\n",
              "0  None    \"절인 배추서 역한 냄새, 다 버렸다\"…김장 고무호스 주의보   \n",
              "1  None   황의조에 \"한국말 해라\" 그는 통역사 아니었다…통역 논란 진실   \n",
              "2  None  \"압색 심정 느껴봐라\"…한동훈 도곡 아파트 문 두드린 '더탐사'   \n",
              "3  None   \"2명 탄다\" 신고했는데 사망자 5명…양양 추락 헬기 무슨 일   \n",
              "4  None    이승기에게 무이자로 47억 빌린 대표 \"한남더힐 매입 무관\"   \n",
              "\n",
              "                                                link  \\\n",
              "0  https://n.news.naver.com/article/025/000324147...   \n",
              "1  https://n.news.naver.com/article/025/000324152...   \n",
              "2  https://n.news.naver.com/article/025/000324151...   \n",
              "3  https://n.news.naver.com/article/025/000324152...   \n",
              "4  https://n.news.naver.com/article/025/000324145...   \n",
              "\n",
              "                                             content  \n",
              "0  [ 주부 구모(44)씨는 지난 26일 배추를 절일 때 마당에 설치된 수도꼭지에서 고...  \n",
              "1  [ 2022 카타르 월드컵 대표팀 공격수 황의조가 14일(현지시간) 카타르 도하 알...  \n",
              "2  [ 유튜브 '더탐사' 관계자 5명이 27일 한동훈 법무부 장관 아파트 현관 앞까지 ...  \n",
              "3  [ 27일 강원 양양군 현북면 명주사 인근에서 헬기 1대가 추락하는 사고가 발생해 ...  \n",
              "4  [ 가수 이승기. 사진 후크엔터테인먼트 권진영 후크엔터테인먼트(이하 후크엔터) 대표...  "
            ],
            "text/html": [
              "\n",
              "  <div id=\"df-3f5d79b1-cde8-4882-9cbd-d9cbb7f7b3f3\">\n",
              "    <div class=\"colab-df-container\">\n",
              "      <div>\n",
              "<style scoped>\n",
              "    .dataframe tbody tr th:only-of-type {\n",
              "        vertical-align: middle;\n",
              "    }\n",
              "\n",
              "    .dataframe tbody tr th {\n",
              "        vertical-align: top;\n",
              "    }\n",
              "\n",
              "    .dataframe thead th {\n",
              "        text-align: right;\n",
              "    }\n",
              "</style>\n",
              "<table border=\"1\" class=\"dataframe\">\n",
              "  <thead>\n",
              "    <tr style=\"text-align: right;\">\n",
              "      <th></th>\n",
              "      <th>date</th>\n",
              "      <th>title</th>\n",
              "      <th>link</th>\n",
              "      <th>content</th>\n",
              "    </tr>\n",
              "  </thead>\n",
              "  <tbody>\n",
              "    <tr>\n",
              "      <th>0</th>\n",
              "      <td>None</td>\n",
              "      <td>\"절인 배추서 역한 냄새, 다 버렸다\"…김장 고무호스 주의보</td>\n",
              "      <td>https://n.news.naver.com/article/025/000324147...</td>\n",
              "      <td>[ 주부 구모(44)씨는 지난 26일 배추를 절일 때 마당에 설치된 수도꼭지에서 고...</td>\n",
              "    </tr>\n",
              "    <tr>\n",
              "      <th>1</th>\n",
              "      <td>None</td>\n",
              "      <td>황의조에 \"한국말 해라\" 그는 통역사 아니었다…통역 논란 진실</td>\n",
              "      <td>https://n.news.naver.com/article/025/000324152...</td>\n",
              "      <td>[ 2022 카타르 월드컵 대표팀 공격수 황의조가 14일(현지시간) 카타르 도하 알...</td>\n",
              "    </tr>\n",
              "    <tr>\n",
              "      <th>2</th>\n",
              "      <td>None</td>\n",
              "      <td>\"압색 심정 느껴봐라\"…한동훈 도곡 아파트 문 두드린 '더탐사'</td>\n",
              "      <td>https://n.news.naver.com/article/025/000324151...</td>\n",
              "      <td>[ 유튜브 '더탐사' 관계자 5명이 27일 한동훈 법무부 장관 아파트 현관 앞까지 ...</td>\n",
              "    </tr>\n",
              "    <tr>\n",
              "      <th>3</th>\n",
              "      <td>None</td>\n",
              "      <td>\"2명 탄다\" 신고했는데 사망자 5명…양양 추락 헬기 무슨 일</td>\n",
              "      <td>https://n.news.naver.com/article/025/000324152...</td>\n",
              "      <td>[ 27일 강원 양양군 현북면 명주사 인근에서 헬기 1대가 추락하는 사고가 발생해 ...</td>\n",
              "    </tr>\n",
              "    <tr>\n",
              "      <th>4</th>\n",
              "      <td>None</td>\n",
              "      <td>이승기에게 무이자로 47억 빌린 대표 \"한남더힐 매입 무관\"</td>\n",
              "      <td>https://n.news.naver.com/article/025/000324145...</td>\n",
              "      <td>[ 가수 이승기. 사진 후크엔터테인먼트 권진영 후크엔터테인먼트(이하 후크엔터) 대표...</td>\n",
              "    </tr>\n",
              "  </tbody>\n",
              "</table>\n",
              "</div>\n",
              "      <button class=\"colab-df-convert\" onclick=\"convertToInteractive('df-3f5d79b1-cde8-4882-9cbd-d9cbb7f7b3f3')\"\n",
              "              title=\"Convert this dataframe to an interactive table.\"\n",
              "              style=\"display:none;\">\n",
              "        \n",
              "  <svg xmlns=\"http://www.w3.org/2000/svg\" height=\"24px\"viewBox=\"0 0 24 24\"\n",
              "       width=\"24px\">\n",
              "    <path d=\"M0 0h24v24H0V0z\" fill=\"none\"/>\n",
              "    <path d=\"M18.56 5.44l.94 2.06.94-2.06 2.06-.94-2.06-.94-.94-2.06-.94 2.06-2.06.94zm-11 1L8.5 8.5l.94-2.06 2.06-.94-2.06-.94L8.5 2.5l-.94 2.06-2.06.94zm10 10l.94 2.06.94-2.06 2.06-.94-2.06-.94-.94-2.06-.94 2.06-2.06.94z\"/><path d=\"M17.41 7.96l-1.37-1.37c-.4-.4-.92-.59-1.43-.59-.52 0-1.04.2-1.43.59L10.3 9.45l-7.72 7.72c-.78.78-.78 2.05 0 2.83L4 21.41c.39.39.9.59 1.41.59.51 0 1.02-.2 1.41-.59l7.78-7.78 2.81-2.81c.8-.78.8-2.07 0-2.86zM5.41 20L4 18.59l7.72-7.72 1.47 1.35L5.41 20z\"/>\n",
              "  </svg>\n",
              "      </button>\n",
              "      \n",
              "  <style>\n",
              "    .colab-df-container {\n",
              "      display:flex;\n",
              "      flex-wrap:wrap;\n",
              "      gap: 12px;\n",
              "    }\n",
              "\n",
              "    .colab-df-convert {\n",
              "      background-color: #E8F0FE;\n",
              "      border: none;\n",
              "      border-radius: 50%;\n",
              "      cursor: pointer;\n",
              "      display: none;\n",
              "      fill: #1967D2;\n",
              "      height: 32px;\n",
              "      padding: 0 0 0 0;\n",
              "      width: 32px;\n",
              "    }\n",
              "\n",
              "    .colab-df-convert:hover {\n",
              "      background-color: #E2EBFA;\n",
              "      box-shadow: 0px 1px 2px rgba(60, 64, 67, 0.3), 0px 1px 3px 1px rgba(60, 64, 67, 0.15);\n",
              "      fill: #174EA6;\n",
              "    }\n",
              "\n",
              "    [theme=dark] .colab-df-convert {\n",
              "      background-color: #3B4455;\n",
              "      fill: #D2E3FC;\n",
              "    }\n",
              "\n",
              "    [theme=dark] .colab-df-convert:hover {\n",
              "      background-color: #434B5C;\n",
              "      box-shadow: 0px 1px 3px 1px rgba(0, 0, 0, 0.15);\n",
              "      filter: drop-shadow(0px 1px 2px rgba(0, 0, 0, 0.3));\n",
              "      fill: #FFFFFF;\n",
              "    }\n",
              "  </style>\n",
              "\n",
              "      <script>\n",
              "        const buttonEl =\n",
              "          document.querySelector('#df-3f5d79b1-cde8-4882-9cbd-d9cbb7f7b3f3 button.colab-df-convert');\n",
              "        buttonEl.style.display =\n",
              "          google.colab.kernel.accessAllowed ? 'block' : 'none';\n",
              "\n",
              "        async function convertToInteractive(key) {\n",
              "          const element = document.querySelector('#df-3f5d79b1-cde8-4882-9cbd-d9cbb7f7b3f3');\n",
              "          const dataTable =\n",
              "            await google.colab.kernel.invokeFunction('convertToInteractive',\n",
              "                                                     [key], {});\n",
              "          if (!dataTable) return;\n",
              "\n",
              "          const docLinkHtml = 'Like what you see? Visit the ' +\n",
              "            '<a target=\"_blank\" href=https://colab.research.google.com/notebooks/data_table.ipynb>data table notebook</a>'\n",
              "            + ' to learn more about interactive tables.';\n",
              "          element.innerHTML = '';\n",
              "          dataTable['output_type'] = 'display_data';\n",
              "          await google.colab.output.renderOutput(dataTable, element);\n",
              "          const docLink = document.createElement('div');\n",
              "          docLink.innerHTML = docLinkHtml;\n",
              "          element.appendChild(docLink);\n",
              "        }\n",
              "      </script>\n",
              "    </div>\n",
              "  </div>\n",
              "  "
            ]
          },
          "metadata": {},
          "execution_count": 5
        }
      ]
    },
    {
      "cell_type": "markdown",
      "source": [
        "# Train 준비"
      ],
      "metadata": {
        "id": "HccA2Y-DR_GU"
      }
    },
    {
      "cell_type": "code",
      "source": [
        "%cd '/content/drive/MyDrive/nlp/summer/bart'\n",
        "\n",
        "!git clone https://github.com/seujung/KoBART-summarization.git\n",
        "\n",
        "!pip install git+https://github.com/SKT-AI/KoBART#egg=kobart\n",
        "\n",
        "!pip install -r requirements.txt\n",
        "\n",
        "%cd '/content/drive/MyDrive/nlp/summer/bart/data'\n",
        "\n",
        "!tar -zxvf train.tar.gz\n",
        "\n",
        "!tar -zxvf test.tar.gz\n",
        "\n",
        "%cd ../"
      ],
      "metadata": {
        "id": "SSL9Mpofo-fp"
      },
      "execution_count": null,
      "outputs": []
    },
    {
      "cell_type": "code",
      "source": [
        "!pip install torchtext==0.10.1"
      ],
      "metadata": {
        "id": "0p3LgvNZs3_b"
      },
      "execution_count": null,
      "outputs": []
    },
    {
      "cell_type": "code",
      "source": [
        "!pip install pytorch-lightning==1.5.2"
      ],
      "metadata": {
        "id": "hm3Ul_5b8eAo"
      },
      "execution_count": null,
      "outputs": []
    },
    {
      "cell_type": "code",
      "source": [
        "!pip install torchvision==0.10.1+cu102 -f https://download.pytorch.org/whl/cu102/torch_stable.html"
      ],
      "metadata": {
        "id": "KNZZUzHD-PG4"
      },
      "execution_count": null,
      "outputs": []
    },
    {
      "cell_type": "code",
      "source": [
        "!pip install torchmetrics==0.6.0"
      ],
      "metadata": {
        "id": "UXoWSwJZ57n6"
      },
      "execution_count": null,
      "outputs": []
    },
    {
      "cell_type": "code",
      "source": [
        "# Train\n",
        "# cpu\n",
        "# !python train.py  --gradient_clip_val 1.0 --max_epochs 50 --default_root_dir logs  --batch_size 4 --num_workers 4\n",
        "\n",
        "# gpu # batch_size 원래 10이었으나 많다고 해서 줄였음 # epoch 수 늘려서 강화 # epoch 당 1시간40분정도 잡고 하면 된다.\n",
        "# !python train.py --gradient_clip_val 1.0 --max_epochs 3 --default_root_dir logs --gpus 1 --batch_size 5 --num_workers 4"
      ],
      "metadata": {
        "id": "3LbnpWX848Bh"
      },
      "execution_count": null,
      "outputs": []
    },
    {
      "cell_type": "code",
      "source": [
        "!python get_model_binary.py --hparams '/content/drive/MyDrive/nlp/summer/bart/logs/tb_logs/default/version_2/hparams.yaml' --model_binary '/content/drive/MyDrive/nlp/summer/bart/logs/model_chp/epoch=02-val_loss=1.363.ckpt'"
      ],
      "metadata": {
        "id": "C9bxvnLoUNEP"
      },
      "execution_count": null,
      "outputs": []
    },
    {
      "cell_type": "code",
      "source": [
        "# demo test\n",
        "# !streamlit run infer.py"
      ],
      "metadata": {
        "id": "cechj23fWU4l"
      },
      "execution_count": null,
      "outputs": []
    },
    {
      "cell_type": "markdown",
      "source": [
        "# test - 직접 train"
      ],
      "metadata": {
        "id": "wJ08RokKEmml"
      }
    },
    {
      "cell_type": "code",
      "source": [
        "import torch\n",
        "from transformers import PreTrainedTokenizerFast\n",
        "from transformers.models.bart import BartForConditionalGeneration\n",
        "\n",
        "model = BartForConditionalGeneration.from_pretrained('./kobart_summary')\n",
        "tokenizer = PreTrainedTokenizerFast.from_pretrained('gogamza/kobart-base-v2')\n",
        "test1 = pd.read_excel('/content/drive/MyDrive/nlp/summer/sample/20221127_19시59분05초.xlsx') # 뉴스 excel\n",
        "result_lst = []\n",
        "\n",
        "for i in test1['content'].replace('@','').replace(\"'\",\"\"):\n",
        "  if i:\n",
        "      input_ids = tokenizer.encode(i[:2350])\n",
        "      input_ids = torch.tensor(input_ids)\n",
        "      input_ids = input_ids.unsqueeze(0)\n",
        "      output = model.generate(input_ids, eos_token_id=1, max_length=512, num_beams=3)\n",
        "      output = tokenizer.decode(output[0], skip_special_tokens=True)\n",
        "      result_lst.append(output)\n",
        "\n",
        "len(result_lst)"
      ],
      "metadata": {
        "id": "1D7DvggiEgWC"
      },
      "execution_count": null,
      "outputs": []
    },
    {
      "cell_type": "code",
      "source": [
        "for i in result_lst:\n",
        "  print(i)"
      ],
      "metadata": {
        "id": "rvU2ZchfFC-i"
      },
      "execution_count": null,
      "outputs": []
    },
    {
      "cell_type": "markdown",
      "source": [
        "# test2 - model import"
      ],
      "metadata": {
        "id": "suwdNsxXS_eQ"
      }
    },
    {
      "cell_type": "code",
      "source": [
        "import torch\n",
        "from transformers import PreTrainedTokenizerFast\n",
        "from transformers import BartForConditionalGeneration\n",
        "\n",
        "tokenizer = PreTrainedTokenizerFast.from_pretrained('digit82/kobart-summarization')\n",
        "model = BartForConditionalGeneration.from_pretrained('digit82/kobart-summarization')"
      ],
      "metadata": {
        "id": "LaM3a38tIpAe"
      },
      "execution_count": null,
      "outputs": []
    },
    {
      "cell_type": "code",
      "source": [
        "result_lst2 = []\n",
        "\n",
        "for i in test1['content']:\n",
        "  if i:\n",
        "    text = i\n",
        "\n",
        "    text = text.replace('\\n', ' ').replace('@','').replace(\"'\",\"\")[:2300]\n",
        "    print(text[:5])\n",
        "    raw_input_ids = tokenizer.encode(text)\n",
        "    input_ids = [tokenizer.bos_token_id] + raw_input_ids + [tokenizer.eos_token_id]\n",
        "\n",
        "    summary_ids = model.generate(torch.tensor([input_ids]),  num_beams=4,  max_length=512,  eos_token_id=1)\n",
        "    temp1 = tokenizer.decode(summary_ids.squeeze().tolist(), skip_special_tokens=True)\n",
        "\n",
        "    result_lst2.append(temp1)"
      ],
      "metadata": {
        "id": "duXgELOmJKkL"
      },
      "execution_count": null,
      "outputs": []
    },
    {
      "cell_type": "code",
      "source": [
        "for i in result_lst2:\n",
        "  print(i)\n",
        "  print(\"==========================================================\")"
      ],
      "metadata": {
        "id": "q4yWgBzrJbop"
      },
      "execution_count": null,
      "outputs": []
    }
  ]
}